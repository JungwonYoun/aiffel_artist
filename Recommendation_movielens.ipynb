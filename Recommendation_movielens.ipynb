{
 "cells": [
  {
   "cell_type": "markdown",
   "id": "bcedf954",
   "metadata": {},
   "source": [
    "# 프로젝트 - Movielens 영화 추천 실습"
   ]
  },
  {
   "cell_type": "markdown",
   "id": "794c1682",
   "metadata": {},
   "source": [
    "활용할 데이터셋은 추천 시스템의 MNIST라고 부를만한 Movielens 데이터입니다.\n",
    "\n",
    "* 유저가 영화에 대해 평점을 매긴 데이터가 데이터 크기 별로 있습니다. MovieLens 1M Dataset 사용을 권장합니다.\n",
    "* 별점 데이터는 대표적인 explicit 데이터입니다. 하지만 implicit 데이터로 간주하고 테스트해 볼 수 있습니다.\n",
    "* 별점을 시청횟수로 해석해서 생각하겠습니다.\n",
    "* 또한 유저가 3점 미만으로 준 데이터는 선호하지 않는다고 가정하고 제외하겠습니다.\n"
   ]
  },
  {
   "cell_type": "code",
   "execution_count": 182,
   "id": "53f3393c",
   "metadata": {},
   "outputs": [
    {
     "name": "stdout",
     "output_type": "stream",
     "text": [
      "1.21.4\n",
      "1.7.1\n",
      "0.4.8\n"
     ]
    }
   ],
   "source": [
    "# import library\n",
    "import numpy as np\n",
    "import scipy\n",
    "import implicit\n",
    "\n",
    "print(np.__version__)\n",
    "print(scipy.__version__)\n",
    "print(implicit.__version__)"
   ]
  },
  {
   "cell_type": "markdown",
   "id": "4da37474",
   "metadata": {},
   "source": [
    "## 1) 데이터 준비와 전처리\n"
   ]
  },
  {
   "cell_type": "code",
   "execution_count": 184,
   "id": "a670df83",
   "metadata": {},
   "outputs": [
    {
     "data": {
      "text/html": [
       "<div>\n",
       "<style scoped>\n",
       "    .dataframe tbody tr th:only-of-type {\n",
       "        vertical-align: middle;\n",
       "    }\n",
       "\n",
       "    .dataframe tbody tr th {\n",
       "        vertical-align: top;\n",
       "    }\n",
       "\n",
       "    .dataframe thead th {\n",
       "        text-align: right;\n",
       "    }\n",
       "</style>\n",
       "<table border=\"1\" class=\"dataframe\">\n",
       "  <thead>\n",
       "    <tr style=\"text-align: right;\">\n",
       "      <th></th>\n",
       "      <th>user_id</th>\n",
       "      <th>movie_id</th>\n",
       "      <th>ratings</th>\n",
       "      <th>timestamp</th>\n",
       "    </tr>\n",
       "  </thead>\n",
       "  <tbody>\n",
       "    <tr>\n",
       "      <th>0</th>\n",
       "      <td>1</td>\n",
       "      <td>1193</td>\n",
       "      <td>5</td>\n",
       "      <td>978300760</td>\n",
       "    </tr>\n",
       "    <tr>\n",
       "      <th>1</th>\n",
       "      <td>1</td>\n",
       "      <td>661</td>\n",
       "      <td>3</td>\n",
       "      <td>978302109</td>\n",
       "    </tr>\n",
       "    <tr>\n",
       "      <th>2</th>\n",
       "      <td>1</td>\n",
       "      <td>914</td>\n",
       "      <td>3</td>\n",
       "      <td>978301968</td>\n",
       "    </tr>\n",
       "    <tr>\n",
       "      <th>3</th>\n",
       "      <td>1</td>\n",
       "      <td>3408</td>\n",
       "      <td>4</td>\n",
       "      <td>978300275</td>\n",
       "    </tr>\n",
       "    <tr>\n",
       "      <th>4</th>\n",
       "      <td>1</td>\n",
       "      <td>2355</td>\n",
       "      <td>5</td>\n",
       "      <td>978824291</td>\n",
       "    </tr>\n",
       "  </tbody>\n",
       "</table>\n",
       "</div>"
      ],
      "text/plain": [
       "   user_id  movie_id  ratings  timestamp\n",
       "0        1      1193        5  978300760\n",
       "1        1       661        3  978302109\n",
       "2        1       914        3  978301968\n",
       "3        1      3408        4  978300275\n",
       "4        1      2355        5  978824291"
      ]
     },
     "execution_count": 184,
     "metadata": {},
     "output_type": "execute_result"
    }
   ],
   "source": [
    "import os\n",
    "import pandas as pd\n",
    "\n",
    "rating_file_path=os.getenv('HOME') + '/aiffel/recommendata_iu/data/ml-1m/ratings.dat'\n",
    "ratings_cols = ['user_id', 'movie_id', 'ratings', 'timestamp']\n",
    "ratings = pd.read_csv(rating_file_path, sep='::', names=ratings_cols, engine='python', encoding = \"ISO-8859-1\")\n",
    "orginal_data_size = len(ratings)\n",
    "ratings.head()"
   ]
  },
  {
   "cell_type": "code",
   "execution_count": 185,
   "id": "d3e0f6b1",
   "metadata": {},
   "outputs": [
    {
     "name": "stdout",
     "output_type": "stream",
     "text": [
      "orginal_data_size: 1000209, filtered_data_size: 836478\n",
      "Ratio of Remaining Data is 83.63%\n"
     ]
    }
   ],
   "source": [
    "# 3점 이상만 남깁니다.\n",
    "ratings = ratings[ratings['ratings']>=3]\n",
    "filtered_data_size = len(ratings)\n",
    "\n",
    "print(f'orginal_data_size: {orginal_data_size}, filtered_data_size: {filtered_data_size}')\n",
    "print(f'Ratio of Remaining Data is {filtered_data_size / orginal_data_size:.2%}')"
   ]
  },
  {
   "cell_type": "code",
   "execution_count": 186,
   "id": "6b23a34b",
   "metadata": {},
   "outputs": [],
   "source": [
    "# ratings 컬럼의 이름을 counts로 바꿉니다.\n",
    "ratings.rename(columns={'ratings':'counts'}, inplace=True)"
   ]
  },
  {
   "cell_type": "code",
   "execution_count": 187,
   "id": "f8ad4d5d",
   "metadata": {},
   "outputs": [
    {
     "data": {
      "text/plain": [
       "0          5\n",
       "1          3\n",
       "2          3\n",
       "3          4\n",
       "4          5\n",
       "          ..\n",
       "1000203    3\n",
       "1000205    5\n",
       "1000206    5\n",
       "1000207    4\n",
       "1000208    4\n",
       "Name: counts, Length: 836478, dtype: int64"
      ]
     },
     "execution_count": 187,
     "metadata": {},
     "output_type": "execute_result"
    }
   ],
   "source": [
    "ratings['counts']"
   ]
  },
  {
   "cell_type": "code",
   "execution_count": 188,
   "id": "ff7fa6be",
   "metadata": {},
   "outputs": [
    {
     "data": {
      "text/html": [
       "<div>\n",
       "<style scoped>\n",
       "    .dataframe tbody tr th:only-of-type {\n",
       "        vertical-align: middle;\n",
       "    }\n",
       "\n",
       "    .dataframe tbody tr th {\n",
       "        vertical-align: top;\n",
       "    }\n",
       "\n",
       "    .dataframe thead th {\n",
       "        text-align: right;\n",
       "    }\n",
       "</style>\n",
       "<table border=\"1\" class=\"dataframe\">\n",
       "  <thead>\n",
       "    <tr style=\"text-align: right;\">\n",
       "      <th></th>\n",
       "      <th>movie_id</th>\n",
       "      <th>title</th>\n",
       "      <th>genre</th>\n",
       "    </tr>\n",
       "  </thead>\n",
       "  <tbody>\n",
       "    <tr>\n",
       "      <th>0</th>\n",
       "      <td>1</td>\n",
       "      <td>Toy Story (1995)</td>\n",
       "      <td>Animation|Children's|Comedy</td>\n",
       "    </tr>\n",
       "    <tr>\n",
       "      <th>1</th>\n",
       "      <td>2</td>\n",
       "      <td>Jumanji (1995)</td>\n",
       "      <td>Adventure|Children's|Fantasy</td>\n",
       "    </tr>\n",
       "    <tr>\n",
       "      <th>2</th>\n",
       "      <td>3</td>\n",
       "      <td>Grumpier Old Men (1995)</td>\n",
       "      <td>Comedy|Romance</td>\n",
       "    </tr>\n",
       "    <tr>\n",
       "      <th>3</th>\n",
       "      <td>4</td>\n",
       "      <td>Waiting to Exhale (1995)</td>\n",
       "      <td>Comedy|Drama</td>\n",
       "    </tr>\n",
       "    <tr>\n",
       "      <th>4</th>\n",
       "      <td>5</td>\n",
       "      <td>Father of the Bride Part II (1995)</td>\n",
       "      <td>Comedy</td>\n",
       "    </tr>\n",
       "  </tbody>\n",
       "</table>\n",
       "</div>"
      ],
      "text/plain": [
       "   movie_id                               title                         genre\n",
       "0         1                    Toy Story (1995)   Animation|Children's|Comedy\n",
       "1         2                      Jumanji (1995)  Adventure|Children's|Fantasy\n",
       "2         3             Grumpier Old Men (1995)                Comedy|Romance\n",
       "3         4            Waiting to Exhale (1995)                  Comedy|Drama\n",
       "4         5  Father of the Bride Part II (1995)                        Comedy"
      ]
     },
     "execution_count": 188,
     "metadata": {},
     "output_type": "execute_result"
    }
   ],
   "source": [
    "# 영화 제목을 보기 위해 메타 데이터를 읽어옵니다.\n",
    "movie_file_path=os.getenv('HOME') + '/aiffel/recommendata_iu/data/ml-1m/movies.dat'\n",
    "cols = ['movie_id', 'title', 'genre'] \n",
    "movies = pd.read_csv(movie_file_path, sep='::', names=cols, engine='python', encoding='ISO-8859-1')\n",
    "movies.head()"
   ]
  },
  {
   "cell_type": "markdown",
   "id": "1de20b54",
   "metadata": {},
   "source": [
    "## 2) 분석\n",
    "* ratings에 있는 유니크한 영화 개수\n",
    "* ratings에 있는 유니크한 사용자 수\n",
    "* 가장 인기 있는 영화 30개(인기순)"
   ]
  },
  {
   "cell_type": "code",
   "execution_count": 189,
   "id": "7f20f918",
   "metadata": {},
   "outputs": [
    {
     "data": {
      "text/plain": [
       "3628"
      ]
     },
     "execution_count": 189,
     "metadata": {},
     "output_type": "execute_result"
    }
   ],
   "source": [
    "# ratings에 있는 유니크한 영화 개수\n",
    "num_movie = ratings['movie_id'].nunique()\n",
    "num_movie"
   ]
  },
  {
   "cell_type": "code",
   "execution_count": 190,
   "id": "bb1b3ccc",
   "metadata": {},
   "outputs": [
    {
     "data": {
      "text/plain": [
       "6039"
      ]
     },
     "execution_count": 190,
     "metadata": {},
     "output_type": "execute_result"
    }
   ],
   "source": [
    "# ratings에 있는 유니크한 사용자 수\n",
    "num_user = ratings['user_id'].nunique()\n",
    "num_user"
   ]
  },
  {
   "cell_type": "code",
   "execution_count": 191,
   "id": "b0245211",
   "metadata": {
    "scrolled": true
   },
   "outputs": [
    {
     "data": {
      "text/html": [
       "<div>\n",
       "<style scoped>\n",
       "    .dataframe tbody tr th:only-of-type {\n",
       "        vertical-align: middle;\n",
       "    }\n",
       "\n",
       "    .dataframe tbody tr th {\n",
       "        vertical-align: top;\n",
       "    }\n",
       "\n",
       "    .dataframe thead th {\n",
       "        text-align: right;\n",
       "    }\n",
       "</style>\n",
       "<table border=\"1\" class=\"dataframe\">\n",
       "  <thead>\n",
       "    <tr style=\"text-align: right;\">\n",
       "      <th></th>\n",
       "      <th>movie_id</th>\n",
       "      <th>user_id</th>\n",
       "      <th>title</th>\n",
       "      <th>genre</th>\n",
       "    </tr>\n",
       "  </thead>\n",
       "  <tbody>\n",
       "    <tr>\n",
       "      <th>0</th>\n",
       "      <td>2858</td>\n",
       "      <td>3211</td>\n",
       "      <td>American Beauty (1999)</td>\n",
       "      <td>Comedy|Drama</td>\n",
       "    </tr>\n",
       "    <tr>\n",
       "      <th>1</th>\n",
       "      <td>260</td>\n",
       "      <td>2910</td>\n",
       "      <td>Star Wars: Episode IV - A New Hope (1977)</td>\n",
       "      <td>Action|Adventure|Fantasy|Sci-Fi</td>\n",
       "    </tr>\n",
       "    <tr>\n",
       "      <th>2</th>\n",
       "      <td>1196</td>\n",
       "      <td>2885</td>\n",
       "      <td>Star Wars: Episode V - The Empire Strikes Back...</td>\n",
       "      <td>Action|Adventure|Drama|Sci-Fi|War</td>\n",
       "    </tr>\n",
       "    <tr>\n",
       "      <th>3</th>\n",
       "      <td>1210</td>\n",
       "      <td>2716</td>\n",
       "      <td>Star Wars: Episode VI - Return of the Jedi (1983)</td>\n",
       "      <td>Action|Adventure|Romance|Sci-Fi|War</td>\n",
       "    </tr>\n",
       "    <tr>\n",
       "      <th>4</th>\n",
       "      <td>2028</td>\n",
       "      <td>2561</td>\n",
       "      <td>Saving Private Ryan (1998)</td>\n",
       "      <td>Action|Drama|War</td>\n",
       "    </tr>\n",
       "    <tr>\n",
       "      <th>5</th>\n",
       "      <td>589</td>\n",
       "      <td>2509</td>\n",
       "      <td>Terminator 2: Judgment Day (1991)</td>\n",
       "      <td>Action|Sci-Fi|Thriller</td>\n",
       "    </tr>\n",
       "    <tr>\n",
       "      <th>6</th>\n",
       "      <td>593</td>\n",
       "      <td>2498</td>\n",
       "      <td>Silence of the Lambs, The (1991)</td>\n",
       "      <td>Drama|Thriller</td>\n",
       "    </tr>\n",
       "    <tr>\n",
       "      <th>7</th>\n",
       "      <td>1198</td>\n",
       "      <td>2473</td>\n",
       "      <td>Raiders of the Lost Ark (1981)</td>\n",
       "      <td>Action|Adventure</td>\n",
       "    </tr>\n",
       "    <tr>\n",
       "      <th>8</th>\n",
       "      <td>1270</td>\n",
       "      <td>2460</td>\n",
       "      <td>Back to the Future (1985)</td>\n",
       "      <td>Comedy|Sci-Fi</td>\n",
       "    </tr>\n",
       "    <tr>\n",
       "      <th>9</th>\n",
       "      <td>2571</td>\n",
       "      <td>2434</td>\n",
       "      <td>Matrix, The (1999)</td>\n",
       "      <td>Action|Sci-Fi|Thriller</td>\n",
       "    </tr>\n",
       "    <tr>\n",
       "      <th>10</th>\n",
       "      <td>480</td>\n",
       "      <td>2413</td>\n",
       "      <td>Jurassic Park (1993)</td>\n",
       "      <td>Action|Adventure|Sci-Fi</td>\n",
       "    </tr>\n",
       "    <tr>\n",
       "      <th>11</th>\n",
       "      <td>2762</td>\n",
       "      <td>2385</td>\n",
       "      <td>Sixth Sense, The (1999)</td>\n",
       "      <td>Thriller</td>\n",
       "    </tr>\n",
       "    <tr>\n",
       "      <th>12</th>\n",
       "      <td>608</td>\n",
       "      <td>2371</td>\n",
       "      <td>Fargo (1996)</td>\n",
       "      <td>Crime|Drama|Thriller</td>\n",
       "    </tr>\n",
       "    <tr>\n",
       "      <th>13</th>\n",
       "      <td>110</td>\n",
       "      <td>2314</td>\n",
       "      <td>Braveheart (1995)</td>\n",
       "      <td>Action|Drama|War</td>\n",
       "    </tr>\n",
       "    <tr>\n",
       "      <th>14</th>\n",
       "      <td>1580</td>\n",
       "      <td>2297</td>\n",
       "      <td>Men in Black (1997)</td>\n",
       "      <td>Action|Adventure|Comedy|Sci-Fi</td>\n",
       "    </tr>\n",
       "    <tr>\n",
       "      <th>15</th>\n",
       "      <td>527</td>\n",
       "      <td>2257</td>\n",
       "      <td>Schindler's List (1993)</td>\n",
       "      <td>Drama|War</td>\n",
       "    </tr>\n",
       "    <tr>\n",
       "      <th>16</th>\n",
       "      <td>1197</td>\n",
       "      <td>2252</td>\n",
       "      <td>Princess Bride, The (1987)</td>\n",
       "      <td>Action|Adventure|Comedy|Romance</td>\n",
       "    </tr>\n",
       "    <tr>\n",
       "      <th>17</th>\n",
       "      <td>2396</td>\n",
       "      <td>2213</td>\n",
       "      <td>Shakespeare in Love (1998)</td>\n",
       "      <td>Comedy|Romance</td>\n",
       "    </tr>\n",
       "    <tr>\n",
       "      <th>18</th>\n",
       "      <td>1617</td>\n",
       "      <td>2210</td>\n",
       "      <td>L.A. Confidential (1997)</td>\n",
       "      <td>Crime|Film-Noir|Mystery|Thriller</td>\n",
       "    </tr>\n",
       "    <tr>\n",
       "      <th>19</th>\n",
       "      <td>318</td>\n",
       "      <td>2194</td>\n",
       "      <td>Shawshank Redemption, The (1994)</td>\n",
       "      <td>Drama</td>\n",
       "    </tr>\n",
       "    <tr>\n",
       "      <th>20</th>\n",
       "      <td>858</td>\n",
       "      <td>2167</td>\n",
       "      <td>Godfather, The (1972)</td>\n",
       "      <td>Action|Crime|Drama</td>\n",
       "    </tr>\n",
       "    <tr>\n",
       "      <th>21</th>\n",
       "      <td>1265</td>\n",
       "      <td>2121</td>\n",
       "      <td>Groundhog Day (1993)</td>\n",
       "      <td>Comedy|Romance</td>\n",
       "    </tr>\n",
       "    <tr>\n",
       "      <th>22</th>\n",
       "      <td>1097</td>\n",
       "      <td>2102</td>\n",
       "      <td>E.T. the Extra-Terrestrial (1982)</td>\n",
       "      <td>Children's|Drama|Fantasy|Sci-Fi</td>\n",
       "    </tr>\n",
       "    <tr>\n",
       "      <th>23</th>\n",
       "      <td>2997</td>\n",
       "      <td>2066</td>\n",
       "      <td>Being John Malkovich (1999)</td>\n",
       "      <td>Comedy</td>\n",
       "    </tr>\n",
       "    <tr>\n",
       "      <th>24</th>\n",
       "      <td>2716</td>\n",
       "      <td>2051</td>\n",
       "      <td>Ghostbusters (1984)</td>\n",
       "      <td>Comedy|Horror</td>\n",
       "    </tr>\n",
       "    <tr>\n",
       "      <th>25</th>\n",
       "      <td>296</td>\n",
       "      <td>2030</td>\n",
       "      <td>Pulp Fiction (1994)</td>\n",
       "      <td>Crime|Drama</td>\n",
       "    </tr>\n",
       "    <tr>\n",
       "      <th>26</th>\n",
       "      <td>356</td>\n",
       "      <td>2022</td>\n",
       "      <td>Forrest Gump (1994)</td>\n",
       "      <td>Comedy|Romance|War</td>\n",
       "    </tr>\n",
       "    <tr>\n",
       "      <th>27</th>\n",
       "      <td>1240</td>\n",
       "      <td>2019</td>\n",
       "      <td>Terminator, The (1984)</td>\n",
       "      <td>Action|Sci-Fi|Thriller</td>\n",
       "    </tr>\n",
       "    <tr>\n",
       "      <th>28</th>\n",
       "      <td>1</td>\n",
       "      <td>2000</td>\n",
       "      <td>Toy Story (1995)</td>\n",
       "      <td>Animation|Children's|Comedy</td>\n",
       "    </tr>\n",
       "    <tr>\n",
       "      <th>29</th>\n",
       "      <td>457</td>\n",
       "      <td>1941</td>\n",
       "      <td>Fugitive, The (1993)</td>\n",
       "      <td>Action|Thriller</td>\n",
       "    </tr>\n",
       "  </tbody>\n",
       "</table>\n",
       "</div>"
      ],
      "text/plain": [
       "    movie_id  user_id                                              title  \\\n",
       "0       2858     3211                             American Beauty (1999)   \n",
       "1        260     2910          Star Wars: Episode IV - A New Hope (1977)   \n",
       "2       1196     2885  Star Wars: Episode V - The Empire Strikes Back...   \n",
       "3       1210     2716  Star Wars: Episode VI - Return of the Jedi (1983)   \n",
       "4       2028     2561                         Saving Private Ryan (1998)   \n",
       "5        589     2509                  Terminator 2: Judgment Day (1991)   \n",
       "6        593     2498                   Silence of the Lambs, The (1991)   \n",
       "7       1198     2473                     Raiders of the Lost Ark (1981)   \n",
       "8       1270     2460                          Back to the Future (1985)   \n",
       "9       2571     2434                                 Matrix, The (1999)   \n",
       "10       480     2413                               Jurassic Park (1993)   \n",
       "11      2762     2385                            Sixth Sense, The (1999)   \n",
       "12       608     2371                                       Fargo (1996)   \n",
       "13       110     2314                                  Braveheart (1995)   \n",
       "14      1580     2297                                Men in Black (1997)   \n",
       "15       527     2257                            Schindler's List (1993)   \n",
       "16      1197     2252                         Princess Bride, The (1987)   \n",
       "17      2396     2213                         Shakespeare in Love (1998)   \n",
       "18      1617     2210                           L.A. Confidential (1997)   \n",
       "19       318     2194                   Shawshank Redemption, The (1994)   \n",
       "20       858     2167                              Godfather, The (1972)   \n",
       "21      1265     2121                               Groundhog Day (1993)   \n",
       "22      1097     2102                  E.T. the Extra-Terrestrial (1982)   \n",
       "23      2997     2066                        Being John Malkovich (1999)   \n",
       "24      2716     2051                                Ghostbusters (1984)   \n",
       "25       296     2030                                Pulp Fiction (1994)   \n",
       "26       356     2022                                Forrest Gump (1994)   \n",
       "27      1240     2019                             Terminator, The (1984)   \n",
       "28         1     2000                                   Toy Story (1995)   \n",
       "29       457     1941                               Fugitive, The (1993)   \n",
       "\n",
       "                                  genre  \n",
       "0                          Comedy|Drama  \n",
       "1       Action|Adventure|Fantasy|Sci-Fi  \n",
       "2     Action|Adventure|Drama|Sci-Fi|War  \n",
       "3   Action|Adventure|Romance|Sci-Fi|War  \n",
       "4                      Action|Drama|War  \n",
       "5                Action|Sci-Fi|Thriller  \n",
       "6                        Drama|Thriller  \n",
       "7                      Action|Adventure  \n",
       "8                         Comedy|Sci-Fi  \n",
       "9                Action|Sci-Fi|Thriller  \n",
       "10              Action|Adventure|Sci-Fi  \n",
       "11                             Thriller  \n",
       "12                 Crime|Drama|Thriller  \n",
       "13                     Action|Drama|War  \n",
       "14       Action|Adventure|Comedy|Sci-Fi  \n",
       "15                            Drama|War  \n",
       "16      Action|Adventure|Comedy|Romance  \n",
       "17                       Comedy|Romance  \n",
       "18     Crime|Film-Noir|Mystery|Thriller  \n",
       "19                                Drama  \n",
       "20                   Action|Crime|Drama  \n",
       "21                       Comedy|Romance  \n",
       "22      Children's|Drama|Fantasy|Sci-Fi  \n",
       "23                               Comedy  \n",
       "24                        Comedy|Horror  \n",
       "25                          Crime|Drama  \n",
       "26                   Comedy|Romance|War  \n",
       "27               Action|Sci-Fi|Thriller  \n",
       "28          Animation|Children's|Comedy  \n",
       "29                      Action|Thriller  "
      ]
     },
     "execution_count": 191,
     "metadata": {},
     "output_type": "execute_result"
    }
   ],
   "source": [
    "# 가장 인기 있는 영화 30개(인기순)\n",
    "movie_popular = ratings.groupby('movie_id')['user_id'].count()\n",
    "k = movie_popular.sort_values(ascending=False).head(30)\n",
    "pd.merge(k, movies, on='movie_id')"
   ]
  },
  {
   "cell_type": "markdown",
   "id": "e45b3bfd",
   "metadata": {},
   "source": [
    "## 3) 내가 선호하는 영화를 5가지 골라서 ratings에 추가"
   ]
  },
  {
   "cell_type": "code",
   "execution_count": 192,
   "id": "b3e90f75",
   "metadata": {},
   "outputs": [
    {
     "data": {
      "text/html": [
       "<div>\n",
       "<style scoped>\n",
       "    .dataframe tbody tr th:only-of-type {\n",
       "        vertical-align: middle;\n",
       "    }\n",
       "\n",
       "    .dataframe tbody tr th {\n",
       "        vertical-align: top;\n",
       "    }\n",
       "\n",
       "    .dataframe thead th {\n",
       "        text-align: right;\n",
       "    }\n",
       "</style>\n",
       "<table border=\"1\" class=\"dataframe\">\n",
       "  <thead>\n",
       "    <tr style=\"text-align: right;\">\n",
       "      <th></th>\n",
       "      <th>user_id</th>\n",
       "      <th>movie_id</th>\n",
       "      <th>counts</th>\n",
       "    </tr>\n",
       "  </thead>\n",
       "  <tbody>\n",
       "    <tr>\n",
       "      <th>0</th>\n",
       "      <td>1</td>\n",
       "      <td>1193</td>\n",
       "      <td>5</td>\n",
       "    </tr>\n",
       "    <tr>\n",
       "      <th>1</th>\n",
       "      <td>1</td>\n",
       "      <td>661</td>\n",
       "      <td>3</td>\n",
       "    </tr>\n",
       "    <tr>\n",
       "      <th>2</th>\n",
       "      <td>1</td>\n",
       "      <td>914</td>\n",
       "      <td>3</td>\n",
       "    </tr>\n",
       "    <tr>\n",
       "      <th>3</th>\n",
       "      <td>1</td>\n",
       "      <td>3408</td>\n",
       "      <td>4</td>\n",
       "    </tr>\n",
       "    <tr>\n",
       "      <th>4</th>\n",
       "      <td>1</td>\n",
       "      <td>2355</td>\n",
       "      <td>5</td>\n",
       "    </tr>\n",
       "    <tr>\n",
       "      <th>...</th>\n",
       "      <td>...</td>\n",
       "      <td>...</td>\n",
       "      <td>...</td>\n",
       "    </tr>\n",
       "    <tr>\n",
       "      <th>1000203</th>\n",
       "      <td>6040</td>\n",
       "      <td>1090</td>\n",
       "      <td>3</td>\n",
       "    </tr>\n",
       "    <tr>\n",
       "      <th>1000205</th>\n",
       "      <td>6040</td>\n",
       "      <td>1094</td>\n",
       "      <td>5</td>\n",
       "    </tr>\n",
       "    <tr>\n",
       "      <th>1000206</th>\n",
       "      <td>6040</td>\n",
       "      <td>562</td>\n",
       "      <td>5</td>\n",
       "    </tr>\n",
       "    <tr>\n",
       "      <th>1000207</th>\n",
       "      <td>6040</td>\n",
       "      <td>1096</td>\n",
       "      <td>4</td>\n",
       "    </tr>\n",
       "    <tr>\n",
       "      <th>1000208</th>\n",
       "      <td>6040</td>\n",
       "      <td>1097</td>\n",
       "      <td>4</td>\n",
       "    </tr>\n",
       "  </tbody>\n",
       "</table>\n",
       "<p>836478 rows × 3 columns</p>\n",
       "</div>"
      ],
      "text/plain": [
       "         user_id  movie_id  counts\n",
       "0              1      1193       5\n",
       "1              1       661       3\n",
       "2              1       914       3\n",
       "3              1      3408       4\n",
       "4              1      2355       5\n",
       "...          ...       ...     ...\n",
       "1000203     6040      1090       3\n",
       "1000205     6040      1094       5\n",
       "1000206     6040       562       5\n",
       "1000207     6040      1096       4\n",
       "1000208     6040      1097       4\n",
       "\n",
       "[836478 rows x 3 columns]"
      ]
     },
     "execution_count": 192,
     "metadata": {},
     "output_type": "execute_result"
    }
   ],
   "source": [
    "ratings = ratings.drop('timestamp',axis=1)\n",
    "ratings"
   ]
  },
  {
   "cell_type": "code",
   "execution_count": 193,
   "id": "85607ee7",
   "metadata": {
    "scrolled": true
   },
   "outputs": [
    {
     "data": {
      "text/plain": [
       "6040"
      ]
     },
     "execution_count": 193,
     "metadata": {},
     "output_type": "execute_result"
    }
   ],
   "source": [
    "# 마지막 유저 id\n",
    "ratings['user_id'].max()"
   ]
  },
  {
   "cell_type": "code",
   "execution_count": 194,
   "id": "dd90bd9a",
   "metadata": {},
   "outputs": [],
   "source": [
    "# 나의 유저 id (= 6041) 와 선호 영화 id 추가\n",
    "my1 = {'user_id': 6041, 'movie_id': 260, 'counts': 5}\n",
    "my2 = {'user_id': 6041, 'movie_id': 1196, 'counts': 5}\n",
    "my3 = {'user_id': 6041, 'movie_id': 1210, 'counts': 5}\n",
    "my4 = {'user_id': 6041, 'movie_id': 589, 'counts': 5}\n",
    "my5 = {'user_id': 6041, 'movie_id': 480, 'counts': 5}\n",
    "ratings = ratings.append(my1, ignore_index = True)\n",
    "ratings = ratings.append(my2, ignore_index = True)\n",
    "ratings = ratings.append(my3, ignore_index = True) \n",
    "ratings = ratings.append(my4, ignore_index = True) \n",
    "ratings = ratings.append(my5, ignore_index = True) "
   ]
  },
  {
   "cell_type": "code",
   "execution_count": 195,
   "id": "df6e7c8c",
   "metadata": {},
   "outputs": [
    {
     "data": {
      "text/html": [
       "<div>\n",
       "<style scoped>\n",
       "    .dataframe tbody tr th:only-of-type {\n",
       "        vertical-align: middle;\n",
       "    }\n",
       "\n",
       "    .dataframe tbody tr th {\n",
       "        vertical-align: top;\n",
       "    }\n",
       "\n",
       "    .dataframe thead th {\n",
       "        text-align: right;\n",
       "    }\n",
       "</style>\n",
       "<table border=\"1\" class=\"dataframe\">\n",
       "  <thead>\n",
       "    <tr style=\"text-align: right;\">\n",
       "      <th></th>\n",
       "      <th>user_id</th>\n",
       "      <th>movie_id</th>\n",
       "      <th>counts</th>\n",
       "    </tr>\n",
       "  </thead>\n",
       "  <tbody>\n",
       "    <tr>\n",
       "      <th>836470</th>\n",
       "      <td>6040</td>\n",
       "      <td>2028</td>\n",
       "      <td>5</td>\n",
       "    </tr>\n",
       "    <tr>\n",
       "      <th>836471</th>\n",
       "      <td>6040</td>\n",
       "      <td>1080</td>\n",
       "      <td>4</td>\n",
       "    </tr>\n",
       "    <tr>\n",
       "      <th>836472</th>\n",
       "      <td>6040</td>\n",
       "      <td>1089</td>\n",
       "      <td>4</td>\n",
       "    </tr>\n",
       "    <tr>\n",
       "      <th>836473</th>\n",
       "      <td>6040</td>\n",
       "      <td>1090</td>\n",
       "      <td>3</td>\n",
       "    </tr>\n",
       "    <tr>\n",
       "      <th>836474</th>\n",
       "      <td>6040</td>\n",
       "      <td>1094</td>\n",
       "      <td>5</td>\n",
       "    </tr>\n",
       "    <tr>\n",
       "      <th>836475</th>\n",
       "      <td>6040</td>\n",
       "      <td>562</td>\n",
       "      <td>5</td>\n",
       "    </tr>\n",
       "    <tr>\n",
       "      <th>836476</th>\n",
       "      <td>6040</td>\n",
       "      <td>1096</td>\n",
       "      <td>4</td>\n",
       "    </tr>\n",
       "    <tr>\n",
       "      <th>836477</th>\n",
       "      <td>6040</td>\n",
       "      <td>1097</td>\n",
       "      <td>4</td>\n",
       "    </tr>\n",
       "    <tr>\n",
       "      <th>836478</th>\n",
       "      <td>6041</td>\n",
       "      <td>260</td>\n",
       "      <td>5</td>\n",
       "    </tr>\n",
       "    <tr>\n",
       "      <th>836479</th>\n",
       "      <td>6041</td>\n",
       "      <td>1196</td>\n",
       "      <td>5</td>\n",
       "    </tr>\n",
       "    <tr>\n",
       "      <th>836480</th>\n",
       "      <td>6041</td>\n",
       "      <td>1210</td>\n",
       "      <td>5</td>\n",
       "    </tr>\n",
       "    <tr>\n",
       "      <th>836481</th>\n",
       "      <td>6041</td>\n",
       "      <td>589</td>\n",
       "      <td>5</td>\n",
       "    </tr>\n",
       "    <tr>\n",
       "      <th>836482</th>\n",
       "      <td>6041</td>\n",
       "      <td>480</td>\n",
       "      <td>5</td>\n",
       "    </tr>\n",
       "  </tbody>\n",
       "</table>\n",
       "</div>"
      ],
      "text/plain": [
       "        user_id  movie_id  counts\n",
       "836470     6040      2028       5\n",
       "836471     6040      1080       4\n",
       "836472     6040      1089       4\n",
       "836473     6040      1090       3\n",
       "836474     6040      1094       5\n",
       "836475     6040       562       5\n",
       "836476     6040      1096       4\n",
       "836477     6040      1097       4\n",
       "836478     6041       260       5\n",
       "836479     6041      1196       5\n",
       "836480     6041      1210       5\n",
       "836481     6041       589       5\n",
       "836482     6041       480       5"
      ]
     },
     "execution_count": 195,
     "metadata": {},
     "output_type": "execute_result"
    }
   ],
   "source": [
    "ratings[836470:836484]"
   ]
  },
  {
   "cell_type": "markdown",
   "id": "57c90801",
   "metadata": {},
   "source": [
    "## 4) CSR matrix를 직접 만들기\n"
   ]
  },
  {
   "cell_type": "code",
   "execution_count": 196,
   "id": "f2ad0cdf",
   "metadata": {},
   "outputs": [],
   "source": [
    "# 고유한 유저, 영화 찾아내는 코드\n",
    "user_unique = ratings['user_id'].unique()\n",
    "movie_unique = ratings['movie_id'].unique()\n",
    "\n",
    "# 유저, 영화 indexing 하는 코드 idx는 index의 약자입니다.\n",
    "user_to_idx = {v:k for k,v in enumerate(user_unique)}\n",
    "movie_to_idx = {v:k for k,v in enumerate(movie_unique)}"
   ]
  },
  {
   "cell_type": "code",
   "execution_count": 197,
   "id": "9ef41dab",
   "metadata": {},
   "outputs": [
    {
     "name": "stdout",
     "output_type": "stream",
     "text": [
      "6039\n",
      "40\n"
     ]
    }
   ],
   "source": [
    "# 인덱싱이 잘 되었는지 확인해 봅니다. \n",
    "print(user_to_idx[6041])\n",
    "print(movie_to_idx[1])# 358869명의 유저 중 마지막으로 추가된 유저이니 358868이 나와야 합니다. "
   ]
  },
  {
   "cell_type": "code",
   "execution_count": 198,
   "id": "5ced2de1",
   "metadata": {},
   "outputs": [
    {
     "name": "stdout",
     "output_type": "stream",
     "text": [
      "user_id column indexing OK!!\n"
     ]
    }
   ],
   "source": [
    "# user_to_idx.get을 통해 user_id 컬럼의 모든 값을 인덱싱한 Series를 구해 봅시다. \n",
    "# 혹시 정상적으로 인덱싱되지 않은 row가 있다면 인덱스가 NaN이 될 테니 dropna()로 제거합니다. \n",
    "temp_user_data = ratings['user_id'].map(user_to_idx.get).dropna()\n",
    "if len(temp_user_data) == len(ratings):   # 모든 row가 정상적으로 인덱싱되었다면\n",
    "    print('user_id column indexing OK!!')\n",
    "    ratings['user_id'] = temp_user_data   # data['user_id']을 인덱싱된 Series로 교체해 줍니다. \n",
    "else:\n",
    "    print('user_id column indexing Fail!!')"
   ]
  },
  {
   "cell_type": "code",
   "execution_count": 199,
   "id": "269485a3",
   "metadata": {},
   "outputs": [
    {
     "name": "stdout",
     "output_type": "stream",
     "text": [
      "movie_id column indexing OK!!\n"
     ]
    }
   ],
   "source": [
    "# movie_to_idx을 통해 movie_id 컬럼도 동일한 방식으로 인덱싱해 줍니다. \n",
    "temp_movie_data = ratings['movie_id'].map(movie_to_idx.get).dropna()\n",
    "if len(temp_movie_data) == len(ratings):\n",
    "    print('movie_id column indexing OK!!')\n",
    "    ratings['movie_id'] = temp_movie_data\n",
    "else:\n",
    "    print('movie_id column indexing Fail!!')"
   ]
  },
  {
   "cell_type": "code",
   "execution_count": 200,
   "id": "b260222b",
   "metadata": {},
   "outputs": [
    {
     "data": {
      "text/html": [
       "<div>\n",
       "<style scoped>\n",
       "    .dataframe tbody tr th:only-of-type {\n",
       "        vertical-align: middle;\n",
       "    }\n",
       "\n",
       "    .dataframe tbody tr th {\n",
       "        vertical-align: top;\n",
       "    }\n",
       "\n",
       "    .dataframe thead th {\n",
       "        text-align: right;\n",
       "    }\n",
       "</style>\n",
       "<table border=\"1\" class=\"dataframe\">\n",
       "  <thead>\n",
       "    <tr style=\"text-align: right;\">\n",
       "      <th></th>\n",
       "      <th>user_id</th>\n",
       "      <th>movie_id</th>\n",
       "      <th>counts</th>\n",
       "    </tr>\n",
       "  </thead>\n",
       "  <tbody>\n",
       "    <tr>\n",
       "      <th>0</th>\n",
       "      <td>0</td>\n",
       "      <td>0</td>\n",
       "      <td>5</td>\n",
       "    </tr>\n",
       "    <tr>\n",
       "      <th>1</th>\n",
       "      <td>0</td>\n",
       "      <td>1</td>\n",
       "      <td>3</td>\n",
       "    </tr>\n",
       "    <tr>\n",
       "      <th>2</th>\n",
       "      <td>0</td>\n",
       "      <td>2</td>\n",
       "      <td>3</td>\n",
       "    </tr>\n",
       "    <tr>\n",
       "      <th>3</th>\n",
       "      <td>0</td>\n",
       "      <td>3</td>\n",
       "      <td>4</td>\n",
       "    </tr>\n",
       "    <tr>\n",
       "      <th>4</th>\n",
       "      <td>0</td>\n",
       "      <td>4</td>\n",
       "      <td>5</td>\n",
       "    </tr>\n",
       "    <tr>\n",
       "      <th>...</th>\n",
       "      <td>...</td>\n",
       "      <td>...</td>\n",
       "      <td>...</td>\n",
       "    </tr>\n",
       "    <tr>\n",
       "      <th>836478</th>\n",
       "      <td>6039</td>\n",
       "      <td>44</td>\n",
       "      <td>5</td>\n",
       "    </tr>\n",
       "    <tr>\n",
       "      <th>836479</th>\n",
       "      <td>6039</td>\n",
       "      <td>117</td>\n",
       "      <td>5</td>\n",
       "    </tr>\n",
       "    <tr>\n",
       "      <th>836480</th>\n",
       "      <td>6039</td>\n",
       "      <td>64</td>\n",
       "      <td>5</td>\n",
       "    </tr>\n",
       "    <tr>\n",
       "      <th>836481</th>\n",
       "      <td>6039</td>\n",
       "      <td>92</td>\n",
       "      <td>5</td>\n",
       "    </tr>\n",
       "    <tr>\n",
       "      <th>836482</th>\n",
       "      <td>6039</td>\n",
       "      <td>107</td>\n",
       "      <td>5</td>\n",
       "    </tr>\n",
       "  </tbody>\n",
       "</table>\n",
       "<p>836483 rows × 3 columns</p>\n",
       "</div>"
      ],
      "text/plain": [
       "        user_id  movie_id  counts\n",
       "0             0         0       5\n",
       "1             0         1       3\n",
       "2             0         2       3\n",
       "3             0         3       4\n",
       "4             0         4       5\n",
       "...         ...       ...     ...\n",
       "836478     6039        44       5\n",
       "836479     6039       117       5\n",
       "836480     6039        64       5\n",
       "836481     6039        92       5\n",
       "836482     6039       107       5\n",
       "\n",
       "[836483 rows x 3 columns]"
      ]
     },
     "execution_count": 200,
     "metadata": {},
     "output_type": "execute_result"
    }
   ],
   "source": [
    "ratings"
   ]
  },
  {
   "cell_type": "code",
   "execution_count": 201,
   "id": "37aca81c",
   "metadata": {},
   "outputs": [
    {
     "data": {
      "text/plain": [
       "<6040x3628 sparse matrix of type '<class 'numpy.int64'>'\n",
       "\twith 836483 stored elements in Compressed Sparse Row format>"
      ]
     },
     "execution_count": 201,
     "metadata": {},
     "output_type": "execute_result"
    }
   ],
   "source": [
    "from scipy.sparse import csr_matrix\n",
    "\n",
    "num_user = ratings['user_id'].nunique()\n",
    "num_movie = ratings['movie_id'].nunique()\n",
    "\n",
    "csr_data = csr_matrix((ratings.counts, (ratings.user_id, ratings.movie_id)), shape = (num_user, num_movie))\n",
    "csr_data"
   ]
  },
  {
   "cell_type": "markdown",
   "id": "3092862c",
   "metadata": {},
   "source": [
    "## 5) als_model = AlternatingLeastSquares 모델을 직접 구성 & 훈련"
   ]
  },
  {
   "cell_type": "code",
   "execution_count": 202,
   "id": "46659fb0",
   "metadata": {},
   "outputs": [],
   "source": [
    "from implicit.als import AlternatingLeastSquares\n",
    "import os\n",
    "import numpy as np\n",
    "\n",
    "# implicit 라이브러리에서 권장하고 있는 부분입니다. 학습 내용과는 무관합니다.\n",
    "os.environ['OPENBLAS_NUM_THREADS']='1'\n",
    "os.environ['KMP_DUPLICATE_LIB_OK']='True'\n",
    "os.environ['MKL_NUM_THREADS']='1'"
   ]
  },
  {
   "cell_type": "code",
   "execution_count": 203,
   "id": "0ab93e37",
   "metadata": {},
   "outputs": [],
   "source": [
    "# Implicit AlternatingLeastSquares 모델의 선언\n",
    "als_model = AlternatingLeastSquares(factors=100, regularization=0.01, use_gpu=False, iterations=15, dtype=np.float32)"
   ]
  },
  {
   "cell_type": "code",
   "execution_count": 204,
   "id": "3c26c844",
   "metadata": {},
   "outputs": [
    {
     "data": {
      "text/plain": [
       "<3628x6040 sparse matrix of type '<class 'numpy.int64'>'\n",
       "\twith 836483 stored elements in Compressed Sparse Column format>"
      ]
     },
     "execution_count": 204,
     "metadata": {},
     "output_type": "execute_result"
    }
   ],
   "source": [
    "# als 모델은 input으로 (item X user 꼴의 matrix를 받기 때문에 Transpose해줍니다.)\n",
    "csr_data_transpose = csr_data.T\n",
    "csr_data_transpose"
   ]
  },
  {
   "cell_type": "code",
   "execution_count": 205,
   "id": "46fb327c",
   "metadata": {},
   "outputs": [
    {
     "data": {
      "application/vnd.jupyter.widget-view+json": {
       "model_id": "f553072f65c74820b35ad3345494a062",
       "version_major": 2,
       "version_minor": 0
      },
      "text/plain": [
       "  0%|          | 0/15 [00:00<?, ?it/s]"
      ]
     },
     "metadata": {},
     "output_type": "display_data"
    }
   ],
   "source": [
    "# 모델 훈련\n",
    "als_model.fit(csr_data_transpose)"
   ]
  },
  {
   "cell_type": "markdown",
   "id": "5837c614",
   "metadata": {},
   "source": [
    "## 6) 내가 선호하는 5가지 영화 중 하나와 그 외의 영화 하나를 골라 훈련된 모델이 예측한 나의 선호도"
   ]
  },
  {
   "cell_type": "code",
   "execution_count": 206,
   "id": "738b5913",
   "metadata": {},
   "outputs": [
    {
     "name": "stdout",
     "output_type": "stream",
     "text": [
      "슝=3\n"
     ]
    }
   ],
   "source": [
    "me, Matirx = user_to_idx[6041], movie_to_idx[2571]\n",
    "my_vector, matrix_vector = als_model.user_factors[me], als_model.item_factors[Matirx]\n",
    "\n",
    "print('슝=3')"
   ]
  },
  {
   "cell_type": "code",
   "execution_count": 207,
   "id": "7f77c74b",
   "metadata": {},
   "outputs": [
    {
     "data": {
      "text/plain": [
       "array([ 0.64878273,  0.26153785, -0.54369724, -0.32430395, -0.4991337 ,\n",
       "       -1.0095179 , -0.31403047,  0.1964158 , -0.5377145 , -0.56438905,\n",
       "        0.21830027,  0.9616008 ,  0.34243643,  0.42727882,  0.15734404,\n",
       "        0.51325274,  0.43599898,  0.41063014,  0.57902396,  0.37631744,\n",
       "        0.24783802,  0.31786957, -0.6530617 ,  0.6072334 ,  0.06365278,\n",
       "        0.15030323,  0.9654379 ,  0.03209203,  0.4579913 ,  0.9625484 ,\n",
       "       -0.21380845, -1.0901873 , -0.36529556, -0.06237607,  0.6842617 ,\n",
       "       -0.2177949 , -0.25962615,  0.31202206,  0.89020616,  0.6980329 ,\n",
       "       -0.00590576, -0.98783135, -0.1796805 ,  0.69346005,  0.20112474,\n",
       "        0.17644863, -0.08770169, -0.23124948, -1.2112929 ,  0.7966639 ,\n",
       "        0.36689827,  0.35882583,  0.186021  ,  0.44452807,  0.07058833,\n",
       "       -1.1233401 , -0.14129636,  0.27053338,  0.69420904, -0.6052003 ,\n",
       "       -1.0040946 , -0.25867033, -0.36412227, -0.61394465,  0.61867225,\n",
       "        0.7981805 ,  1.0571021 , -0.33286664, -0.45970663, -0.198333  ,\n",
       "        0.26905555,  0.09441441, -0.481534  , -0.8574771 ,  0.00744788,\n",
       "        0.3210049 ,  0.24838711,  0.8253689 ,  0.10318176, -0.43487737,\n",
       "        0.09937869,  0.46534076,  0.43365633, -0.6760113 , -0.259456  ,\n",
       "        0.28349918, -0.5828038 , -0.432966  , -1.1716563 ,  0.19319989,\n",
       "       -0.08570199,  0.6773577 , -0.3109693 ,  0.4805837 ,  0.45021126,\n",
       "       -0.57478607, -0.93783844, -0.5493353 , -0.59960824, -0.01961167],\n",
       "      dtype=float32)"
      ]
     },
     "execution_count": 207,
     "metadata": {},
     "output_type": "execute_result"
    }
   ],
   "source": [
    "my_vector"
   ]
  },
  {
   "cell_type": "code",
   "execution_count": 208,
   "id": "fcc9913f",
   "metadata": {},
   "outputs": [
    {
     "data": {
      "text/plain": [
       "array([ 0.03144126,  0.02240729, -0.01216483,  0.00793418,  0.02810876,\n",
       "       -0.00279822,  0.01975317,  0.01849595, -0.03336544,  0.00185772,\n",
       "        0.00833815,  0.0256633 ,  0.0145984 ,  0.01854519,  0.01662116,\n",
       "       -0.00075018,  0.01026541,  0.037894  ,  0.01859338,  0.00303502,\n",
       "        0.00367564, -0.00348339, -0.00208284,  0.03336024,  0.03458932,\n",
       "       -0.01571877,  0.0246808 , -0.00053558,  0.00551901,  0.01660543,\n",
       "        0.01969987, -0.03436152, -0.01122528, -0.00434091, -0.00684314,\n",
       "       -0.01075633,  0.01668479,  0.02077681,  0.02605258,  0.02276645,\n",
       "       -0.00337557, -0.03968243,  0.01011323,  0.0207909 ,  0.01976655,\n",
       "        0.00720333,  0.01776955, -0.00633263, -0.00283437,  0.00011201,\n",
       "        0.01969634,  0.00515187,  0.03686822,  0.01600665,  0.00041776,\n",
       "       -0.02889264, -0.00935512,  0.00070837,  0.03072545, -0.01945682,\n",
       "       -0.02416616, -0.01450357, -0.00869216,  0.00229945, -0.00298357,\n",
       "        0.00031944,  0.03286518, -0.00299211, -0.01215831, -0.01734677,\n",
       "        0.02966778,  0.00789555, -0.01241163,  0.00618962,  0.01448108,\n",
       "       -0.00075962,  0.00781779,  0.00956413,  0.00923587, -0.00227327,\n",
       "        0.00384785,  0.00981826,  0.00645979, -0.00856335,  0.00015674,\n",
       "        0.00236374,  0.00711505,  0.00637003, -0.01448804, -0.0018931 ,\n",
       "        0.00908013,  0.00827939,  0.00313462,  0.01826491,  0.00890438,\n",
       "       -0.0016809 , -0.01246858, -0.01696393, -0.01509454,  0.01467629],\n",
       "      dtype=float32)"
      ]
     },
     "execution_count": 208,
     "metadata": {},
     "output_type": "execute_result"
    }
   ],
   "source": [
    "matrix_vector"
   ]
  },
  {
   "cell_type": "code",
   "execution_count": 209,
   "id": "ac0a0e0a",
   "metadata": {
    "scrolled": true
   },
   "outputs": [
    {
     "data": {
      "text/plain": [
       "0.5630018"
      ]
     },
     "execution_count": 209,
     "metadata": {},
     "output_type": "execute_result"
    }
   ],
   "source": [
    "# zimin과 black_eyed_peas를 내적하는 코드\n",
    "np.dot(my_vector, matrix_vector)"
   ]
  },
  {
   "cell_type": "markdown",
   "id": "f9c6e94b",
   "metadata": {},
   "source": [
    "### 분석 : \n",
    "모델의 분석으로는  내가 매트릭스 영화에 대한 선호도는 0.56으로 1에 크게 가까운 지표는 아니나, 0.5를 넘겼으니 유의미한 결과라고 생각된다."
   ]
  },
  {
   "cell_type": "markdown",
   "id": "fa02f319",
   "metadata": {},
   "source": [
    "## 7) 내가 좋아하는 영화와 비슷한 영화를 추천"
   ]
  },
  {
   "cell_type": "code",
   "execution_count": 211,
   "id": "42ab5fe0",
   "metadata": {},
   "outputs": [
    {
     "data": {
      "text/plain": [
       "[(513, 1.0000001),\n",
       " (596, 0.8067744),\n",
       " (1130, 0.80283934),\n",
       " (173, 0.7401758),\n",
       " (1982, 0.64632535),\n",
       " (828, 0.63236094),\n",
       " (1985, 0.62991744),\n",
       " (545, 0.6276787),\n",
       " (1733, 0.6247044),\n",
       " (1736, 0.6160259),\n",
       " (561, 0.5689921),\n",
       " (576, 0.5609352),\n",
       " (942, 0.5463509),\n",
       " (2017, 0.5442092),\n",
       " (2009, 0.539727)]"
      ]
     },
     "execution_count": 211,
     "metadata": {},
     "output_type": "execute_result"
    }
   ],
   "source": [
    "favorite_movie = 2 #Jumanji\n",
    "movie_id = movie_to_idx[favorite_movie]\n",
    "similar_movie = als_model.similar_items(movie_id, N=15)\n",
    "similar_movie"
   ]
  },
  {
   "cell_type": "code",
   "execution_count": 213,
   "id": "ae9ae1aa",
   "metadata": {},
   "outputs": [],
   "source": [
    "idx_to_movie = {v:k for k,v in movie_to_idx.items()}\n",
    "idx_similar_movie = [idx_to_movie[i[0]] for i in similar_movie]"
   ]
  },
  {
   "cell_type": "code",
   "execution_count": 229,
   "id": "21eef343",
   "metadata": {},
   "outputs": [
    {
     "data": {
      "text/plain": [
       "['Jumanji (1995)',\n",
       " 'Hook (1991)',\n",
       " 'Indian in the Cupboard, The (1995)',\n",
       " 'Dragonheart (1996)',\n",
       " 'Space Jam (1996)',\n",
       " 'Flubber (1997)',\n",
       " 'NeverEnding Story II: The Next Chapter, The (1990)',\n",
       " 'Santa Clause, The (1994)',\n",
       " 'Borrowers, The (1997)',\n",
       " 'Small Soldiers (1998)',\n",
       " 'NeverEnding Story, The (1984)',\n",
       " 'Escape to Witch Mountain (1975)',\n",
       " 'Legend (1985)',\n",
       " 'Pagemaster, The (1994)',\n",
       " \"Kid in King Arthur's Court, A (1995)\"]"
      ]
     },
     "execution_count": 229,
     "metadata": {},
     "output_type": "execute_result"
    }
   ],
   "source": [
    "title_similar_movie = [movies[movies.movie_id == i]['title'].values[0] for i in idx_similar_movie]\n",
    "title_similar_movie"
   ]
  },
  {
   "cell_type": "markdown",
   "id": "306d853b",
   "metadata": {},
   "source": [
    "## 8) 내가 가장 좋아할 만한 영화들을 추천"
   ]
  },
  {
   "cell_type": "code",
   "execution_count": 230,
   "id": "6032a18f",
   "metadata": {},
   "outputs": [
    {
     "data": {
      "text/plain": [
       "[(124, 0.5630018),\n",
       " (175, 0.4932823),\n",
       " (60, 0.48584616),\n",
       " (120, 0.46714938),\n",
       " (200, 0.43080476),\n",
       " (22, 0.3430649),\n",
       " (99, 0.33197528),\n",
       " (62, 0.33043373),\n",
       " (87, 0.32976693),\n",
       " (5, 0.29862714),\n",
       " (193, 0.2766662),\n",
       " (48, 0.2544483),\n",
       " (651, 0.25431442),\n",
       " (172, 0.23372658),\n",
       " (160, 0.21192375),\n",
       " (82, 0.2076147),\n",
       " (26, 0.20298782),\n",
       " (680, 0.20235115),\n",
       " (58, 0.2004929),\n",
       " (372, 0.18478237)]"
      ]
     },
     "execution_count": 230,
     "metadata": {},
     "output_type": "execute_result"
    }
   ],
   "source": [
    "user = user_to_idx[6041]\n",
    "# recommend에서는 user*item CSR Matrix를 받습니다.\n",
    "movie_recommended = als_model.recommend(user, csr_data, N=20, filter_already_liked_items=True)\n",
    "movie_recommended"
   ]
  },
  {
   "cell_type": "code",
   "execution_count": 234,
   "id": "7ad14ace",
   "metadata": {},
   "outputs": [
    {
     "data": {
      "text/plain": [
       "['Matrix, The (1999)',\n",
       " 'Men in Black (1997)',\n",
       " 'Star Wars: Episode I - The Phantom Menace (1999)',\n",
       " 'Raiders of the Lost Ark (1981)',\n",
       " 'Terminator, The (1984)',\n",
       " 'Back to the Future (1985)',\n",
       " 'American Beauty (1999)',\n",
       " 'Total Recall (1990)',\n",
       " 'Braveheart (1995)',\n",
       " 'Princess Bride, The (1987)',\n",
       " 'Alien (1979)',\n",
       " 'Saving Private Ryan (1998)',\n",
       " 'Aliens (1986)',\n",
       " 'Indiana Jones and the Last Crusade (1989)',\n",
       " 'Forrest Gump (1994)',\n",
       " 'Lost World: Jurassic Park, The (1997)',\n",
       " 'E.T. the Extra-Terrestrial (1982)',\n",
       " 'Blade Runner (1982)',\n",
       " 'Mission: Impossible (1996)',\n",
       " 'X-Men (2000)']"
      ]
     },
     "execution_count": 234,
     "metadata": {},
     "output_type": "execute_result"
    }
   ],
   "source": [
    "idx_movie_recommended = [idx_to_movie[i[0]] for i in movie_recommended]\n",
    "title_movie_recommended = [movies[movies.movie_id == i]['title'].values[0] for i in idx_movie_recommended]\n",
    "title_movie_recommended"
   ]
  },
  {
   "cell_type": "code",
   "execution_count": 238,
   "id": "b89fd6bf",
   "metadata": {},
   "outputs": [
    {
     "data": {
      "text/plain": [
       "(0.5511566686602494,\n",
       " [(92, 0.23392770427743892),\n",
       "  (107, 0.12398864142964136),\n",
       "  (44, 0.07296802756604517),\n",
       "  (117, 0.06559661362139801),\n",
       "  (64, 0.05467568176572585)],\n",
       " (array([[ 0.62722051,  0.10587628,  0.12167134, ...,  0.09194738,\n",
       "           0.08411134,  0.09252366],\n",
       "         [ 0.06640777,  0.59395911,  0.08984031, ...,  0.11152048,\n",
       "           0.05498305,  0.08590898],\n",
       "         [ 0.07631476,  0.06624358,  0.54955946, ...,  0.08727608,\n",
       "           0.09600683,  0.06669461],\n",
       "         ...,\n",
       "         [ 0.05767128,  0.07597365,  0.06916979, ...,  0.5339075 ,\n",
       "           0.01166201,  0.03851713],\n",
       "         [ 0.05275636,  0.04156308,  0.0679351 , ...,  0.07448257,\n",
       "           0.52828353, -0.01034124],\n",
       "         [ 0.05803274,  0.06082248,  0.05562822, ...,  0.07964015,\n",
       "           0.04152347,  0.53857568]]),\n",
       "  False))"
      ]
     },
     "execution_count": 238,
     "metadata": {},
     "output_type": "execute_result"
    }
   ],
   "source": [
    "Matrix = movie_to_idx[2571]\n",
    "explain = als_model.explain(user, csr_data, itemid=Matrix)\n",
    "explain"
   ]
  },
  {
   "cell_type": "code",
   "execution_count": 248,
   "id": "c03f9985",
   "metadata": {},
   "outputs": [
    {
     "data": {
      "text/plain": [
       "[('Terminator 2: Judgment Day (1991)', 0.23392770427743892),\n",
       " ('Jurassic Park (1993)', 0.12398864142964136),\n",
       " ('Star Wars: Episode IV - A New Hope (1977)', 0.07296802756604517),\n",
       " ('Star Wars: Episode V - The Empire Strikes Back (1980)',\n",
       "  0.06559661362139801),\n",
       " ('Star Wars: Episode VI - Return of the Jedi (1983)', 0.05467568176572585)]"
      ]
     },
     "execution_count": 248,
     "metadata": {},
     "output_type": "execute_result"
    }
   ],
   "source": [
    "j = [(idx_to_movie[i[0]], i[1]) for i in explain[1]]\n",
    "[(movies[movies.movie_id == i[0]]['title'].values[0], i[1]) for i in j]"
   ]
  },
  {
   "cell_type": "markdown",
   "id": "efdc0009",
   "metadata": {},
   "source": [
    "### 분석 : \n",
    "Matrix가 나의 제1순위 추천영화이다.\n",
    "\n",
    "explain을 통해 이 추천에 기여된 정도를 확인해보면 터미네이터와 주라기 공원 모두 어드벤쳐영화에 SF 영화이기 때문에 영향을 많이 미친것을 확인할 수 있었다. "
   ]
  },
  {
   "cell_type": "markdown",
   "id": "9b4a726c",
   "metadata": {},
   "source": [
    "# 회고\n",
    "\n",
    "잘한 점 : 개념을 확실하게 이해하고 코드를 어떻게 활용하면 원하는 결과물을 얻을 수 있는지 완전히 이해하고 활용할 수 있다.\n",
    "\n",
    "못한 점 : 코드의 수학적 모델을 시간 부족으로 공부해보지 못한 점이 아쉽다.\n",
    "\n",
    "노력할 점 : LSA와 LDA와 관련하여 추천시스템의 수학적 원리와 모델간 차이점까지 정리할 수 있는 시간을 마련해야겠다."
   ]
  },
  {
   "cell_type": "code",
   "execution_count": null,
   "id": "5610821e",
   "metadata": {},
   "outputs": [],
   "source": []
  }
 ],
 "metadata": {
  "kernelspec": {
   "display_name": "Python 3 (ipykernel)",
   "language": "python",
   "name": "python3"
  },
  "language_info": {
   "codemirror_mode": {
    "name": "ipython",
    "version": 3
   },
   "file_extension": ".py",
   "mimetype": "text/x-python",
   "name": "python",
   "nbconvert_exporter": "python",
   "pygments_lexer": "ipython3",
   "version": "3.9.7"
  }
 },
 "nbformat": 4,
 "nbformat_minor": 5
}
